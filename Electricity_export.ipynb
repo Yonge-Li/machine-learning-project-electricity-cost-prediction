{
 "cells": [
  {
   "cell_type": "code",
   "execution_count": null,
   "id": "57d7bc28-0c1a-4a1b-855d-c7421c810c08",
   "metadata": {},
   "outputs": [
    {
     "name": "stdout",
     "output_type": "stream",
     "text": [
      "Data saved to exported_electricity.csv\n",
      "Monthly summary saved to monthly_summary.csv\n"
     ]
    }
   ],
   "source": [
    "import json\n",
    "import requests\n",
    "import pandas as pd\n",
    "\n",
    "def fetch_data(api_url):\n",
    "    \"\"\"Fetch data from API.\"\"\"\n",
    "    try:\n",
    "        response = requests.get(api_url, timeout=10)\n",
    "        response.raise_for_status()  # Raise HTTP errors\n",
    "        return response.json()\n",
    "    except requests.exceptions.RequestException as e:\n",
    "        print(f\"Error fetching data: {e}\")\n",
    "        return None\n",
    "\n",
    "def save_to_csv(data, filename=\"exported_electricity.csv\"):\n",
    "    \"\"\"Process and save data to CSV.\"\"\"\n",
    "    if 'unix_seconds' not in data or 'countries' not in data:\n",
    "        print(\"Unexpected data format\")\n",
    "        return\n",
    "\n",
    "    timestamps = pd.to_datetime(data['unix_seconds'], unit='s')\n",
    "\n",
    "    sum_data = None\n",
    "    for country in data['countries']:\n",
    "        if isinstance(country, dict) and country.get('name') == 'sum':\n",
    "            sum_data = country.get('data', [])\n",
    "            break\n",
    "\n",
    "    if not sum_data or len(sum_data) != len(timestamps):\n",
    "        print(\"No valid 'sum' data found\")\n",
    "        return\n",
    "\n",
    "    df = pd.DataFrame({'date': timestamps, 'sum': sum_data})\n",
    "    df.set_index('date', inplace=True)\n",
    "    \n",
    "    df['sum'] = df['sum'].abs()\n",
    "    \n",
    "    # Save to CSV\n",
    "    df.to_csv(filename)\n",
    "    print(f\"Data saved to {filename}\")\n",
    "\n",
    "    # Aggregate by month and year\n",
    "    df['year-month'] = df.index.to_period('M').astype(str)  # Convert to YYYY-MM format\n",
    "    monthly_summary = df.groupby('year-month')['sum'].agg(['min', 'max', 'mean'])\n",
    "\n",
    "    # Save aggregated data to CSV\n",
    "    summary_file = \"monthly_summary.csv\"\n",
    "    monthly_summary.to_csv(summary_file)\n",
    "    print(f\"Monthly summary saved to {summary_file}\")\n",
    "\n",
    "# Define the API endpoint\n",
    "api_url = 'https://api.energy-charts.info/cbet?country=se&start=2019-01-01&end=2024-12-31'\n",
    "\n",
    "# Fetch and save the data\n",
    "data = fetch_data(api_url)\n",
    "if data:\n",
    "    save_to_csv(data)"
   ]
  },
  {
   "cell_type": "code",
   "execution_count": null,
   "id": "99d1e416-7ea7-4be0-8996-14754edae754",
   "metadata": {},
   "outputs": [],
   "source": []
  }
 ],
 "metadata": {
  "kernelspec": {
   "display_name": "ml",
   "language": "python",
   "name": "ml"
  },
  "language_info": {
   "codemirror_mode": {
    "name": "ipython",
    "version": 3
   },
   "file_extension": ".py",
   "mimetype": "text/x-python",
   "name": "python",
   "nbconvert_exporter": "python",
   "pygments_lexer": "ipython3",
   "version": "3.11.7"
  }
 },
 "nbformat": 4,
 "nbformat_minor": 5
}
